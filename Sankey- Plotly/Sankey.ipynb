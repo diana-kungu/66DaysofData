{
 "cells": [
  {
   "cell_type": "code",
   "execution_count": 10,
   "metadata": {},
   "outputs": [
    {
     "data": {
      "text/plain": [
       "Renderers configuration\n",
       "-----------------------\n",
       "    Default renderer: 'vscode'\n",
       "    Available renderers:\n",
       "        ['plotly_mimetype', 'jupyterlab', 'nteract', 'vscode',\n",
       "         'notebook', 'notebook_connected', 'kaggle', 'azure', 'colab',\n",
       "         'cocalc', 'databricks', 'json', 'png', 'jpeg', 'jpg', 'svg',\n",
       "         'pdf', 'browser', 'firefox', 'chrome', 'chromium', 'iframe',\n",
       "         'iframe_connected', 'sphinx_gallery', 'sphinx_gallery_png']"
      ]
     },
     "execution_count": 10,
     "metadata": {},
     "output_type": "execute_result"
    }
   ],
   "source": [
    "#Bottle-neck Analysis\n",
    "from pandas import read_csv\n",
    "from random import randint\n",
    "\n",
    "import plotly.graph_objects as go\n",
    "import plotly.io as pio\n",
    "pio.renderers"
   ]
  },
  {
   "cell_type": "code",
   "execution_count": 11,
   "metadata": {},
   "outputs": [
    {
     "data": {
      "text/html": [
       "<div>\n",
       "<style scoped>\n",
       "    .dataframe tbody tr th:only-of-type {\n",
       "        vertical-align: middle;\n",
       "    }\n",
       "\n",
       "    .dataframe tbody tr th {\n",
       "        vertical-align: top;\n",
       "    }\n",
       "\n",
       "    .dataframe thead th {\n",
       "        text-align: right;\n",
       "    }\n",
       "</style>\n",
       "<table border=\"1\" class=\"dataframe\">\n",
       "  <thead>\n",
       "    <tr style=\"text-align: right;\">\n",
       "      <th></th>\n",
       "      <th>ProductViewed</th>\n",
       "      <th>ProductAdded</th>\n",
       "      <th>CartViewed</th>\n",
       "      <th>CheckoutStarted</th>\n",
       "      <th>OrderCompleted</th>\n",
       "    </tr>\n",
       "    <tr>\n",
       "      <th>category</th>\n",
       "      <th></th>\n",
       "      <th></th>\n",
       "      <th></th>\n",
       "      <th></th>\n",
       "      <th></th>\n",
       "    </tr>\n",
       "  </thead>\n",
       "  <tbody>\n",
       "    <tr>\n",
       "      <th>jewelry</th>\n",
       "      <td>5565</td>\n",
       "      <td>2991</td>\n",
       "      <td>600</td>\n",
       "      <td>255</td>\n",
       "      <td>124</td>\n",
       "    </tr>\n",
       "    <tr>\n",
       "      <th>books</th>\n",
       "      <td>5582</td>\n",
       "      <td>1631</td>\n",
       "      <td>374</td>\n",
       "      <td>163</td>\n",
       "      <td>79</td>\n",
       "    </tr>\n",
       "    <tr>\n",
       "      <th>tools</th>\n",
       "      <td>8248</td>\n",
       "      <td>3681</td>\n",
       "      <td>746</td>\n",
       "      <td>325</td>\n",
       "      <td>149</td>\n",
       "    </tr>\n",
       "    <tr>\n",
       "      <th>beauty</th>\n",
       "      <td>9632</td>\n",
       "      <td>3475</td>\n",
       "      <td>728</td>\n",
       "      <td>303</td>\n",
       "      <td>161</td>\n",
       "    </tr>\n",
       "    <tr>\n",
       "      <th>outdoors</th>\n",
       "      <td>13357</td>\n",
       "      <td>2749</td>\n",
       "      <td>1067</td>\n",
       "      <td>436</td>\n",
       "      <td>220</td>\n",
       "    </tr>\n",
       "    <tr>\n",
       "      <th>electronics</th>\n",
       "      <td>15662</td>\n",
       "      <td>3790</td>\n",
       "      <td>1213</td>\n",
       "      <td>489</td>\n",
       "      <td>237</td>\n",
       "    </tr>\n",
       "    <tr>\n",
       "      <th>floral</th>\n",
       "      <td>19394</td>\n",
       "      <td>4451</td>\n",
       "      <td>1501</td>\n",
       "      <td>625</td>\n",
       "      <td>312</td>\n",
       "    </tr>\n",
       "    <tr>\n",
       "      <th>footwear</th>\n",
       "      <td>22518</td>\n",
       "      <td>5148</td>\n",
       "      <td>2359</td>\n",
       "      <td>934</td>\n",
       "      <td>447</td>\n",
       "    </tr>\n",
       "    <tr>\n",
       "      <th>groceries</th>\n",
       "      <td>23842</td>\n",
       "      <td>5225</td>\n",
       "      <td>2462</td>\n",
       "      <td>932</td>\n",
       "      <td>461</td>\n",
       "    </tr>\n",
       "    <tr>\n",
       "      <th>seasonal</th>\n",
       "      <td>23896</td>\n",
       "      <td>6116</td>\n",
       "      <td>2755</td>\n",
       "      <td>1062</td>\n",
       "      <td>520</td>\n",
       "    </tr>\n",
       "    <tr>\n",
       "      <th>furniture</th>\n",
       "      <td>24535</td>\n",
       "      <td>6806</td>\n",
       "      <td>2972</td>\n",
       "      <td>1161</td>\n",
       "      <td>589</td>\n",
       "    </tr>\n",
       "    <tr>\n",
       "      <th>homedecor</th>\n",
       "      <td>25421</td>\n",
       "      <td>6066</td>\n",
       "      <td>2451</td>\n",
       "      <td>953</td>\n",
       "      <td>494</td>\n",
       "    </tr>\n",
       "    <tr>\n",
       "      <th>instruments</th>\n",
       "      <td>25930</td>\n",
       "      <td>4606</td>\n",
       "      <td>1893</td>\n",
       "      <td>752</td>\n",
       "      <td>383</td>\n",
       "    </tr>\n",
       "    <tr>\n",
       "      <th>accessories</th>\n",
       "      <td>26276</td>\n",
       "      <td>5758</td>\n",
       "      <td>2802</td>\n",
       "      <td>1078</td>\n",
       "      <td>556</td>\n",
       "    </tr>\n",
       "    <tr>\n",
       "      <th>apparel</th>\n",
       "      <td>28547</td>\n",
       "      <td>6659</td>\n",
       "      <td>2861</td>\n",
       "      <td>1203</td>\n",
       "      <td>607</td>\n",
       "    </tr>\n",
       "    <tr>\n",
       "      <th>housewares</th>\n",
       "      <td>38559</td>\n",
       "      <td>5384</td>\n",
       "      <td>2311</td>\n",
       "      <td>967</td>\n",
       "      <td>480</td>\n",
       "    </tr>\n",
       "  </tbody>\n",
       "</table>\n",
       "</div>"
      ],
      "text/plain": [
       "             ProductViewed  ProductAdded  CartViewed  CheckoutStarted  \\\n",
       "category                                                                \n",
       "jewelry               5565          2991         600              255   \n",
       "books                 5582          1631         374              163   \n",
       "tools                 8248          3681         746              325   \n",
       "beauty                9632          3475         728              303   \n",
       "outdoors             13357          2749        1067              436   \n",
       "electronics          15662          3790        1213              489   \n",
       "floral               19394          4451        1501              625   \n",
       "footwear             22518          5148        2359              934   \n",
       "groceries            23842          5225        2462              932   \n",
       "seasonal             23896          6116        2755             1062   \n",
       "furniture            24535          6806        2972             1161   \n",
       "homedecor            25421          6066        2451              953   \n",
       "instruments          25930          4606        1893              752   \n",
       "accessories          26276          5758        2802             1078   \n",
       "apparel              28547          6659        2861             1203   \n",
       "housewares           38559          5384        2311              967   \n",
       "\n",
       "             OrderCompleted  \n",
       "category                     \n",
       "jewelry                 124  \n",
       "books                    79  \n",
       "tools                   149  \n",
       "beauty                  161  \n",
       "outdoors                220  \n",
       "electronics             237  \n",
       "floral                  312  \n",
       "footwear                447  \n",
       "groceries               461  \n",
       "seasonal                520  \n",
       "furniture               589  \n",
       "homedecor               494  \n",
       "instruments             383  \n",
       "accessories             556  \n",
       "apparel                 607  \n",
       "housewares              480  "
      ]
     },
     "execution_count": 11,
     "metadata": {},
     "output_type": "execute_result"
    }
   ],
   "source": [
    "#Read Data\n",
    "df_i = read_csv(r\".\\customer_interaction.csv\", index_col='category')\n",
    "df_i.loc[:, 'ProductAdded'] = [x + randint(1000, 2500) for x in df_i.loc[:, 'ProductAdded']]\n",
    "df_i"
   ]
  },
  {
   "cell_type": "code",
   "execution_count": 12,
   "metadata": {},
   "outputs": [
    {
     "data": {
      "application/vnd.plotly.v1+json": {
       "config": {
        "plotlyServerURL": "https://plot.ly"
       },
       "data": [
        {
         "link": {
          "source": [
           0,
           1,
           2,
           3,
           4
          ],
          "target": [
           1,
           2,
           3,
           4
          ],
          "value": [
           5565,
           2991,
           600,
           255,
           124
          ]
         },
         "node": {
          "color": [
           "blue",
           "red",
           "yellow",
           "green",
           "purple",
           "cyan",
           "black"
          ],
          "label": [
           "ProductViewed",
           "ProductAdded",
           "CartViewed",
           "Checkout",
           "Sale"
          ],
          "line": {
           "color": "black",
           "width": 0.5
          },
          "pad": 15,
          "thickness": 20
         },
         "type": "sankey",
         "visible": false
        },
        {
         "link": {
          "source": [
           0,
           1,
           2,
           3,
           4
          ],
          "target": [
           1,
           2,
           3,
           4
          ],
          "value": [
           5582,
           1631,
           374,
           163,
           79
          ]
         },
         "node": {
          "color": [
           "blue",
           "red",
           "yellow",
           "green",
           "purple",
           "cyan",
           "black"
          ],
          "label": [
           "ProductViewed",
           "ProductAdded",
           "CartViewed",
           "Checkout",
           "Sale"
          ],
          "line": {
           "color": "black",
           "width": 0.5
          },
          "pad": 15,
          "thickness": 20
         },
         "type": "sankey",
         "visible": true
        },
        {
         "link": {
          "source": [
           0,
           1,
           2,
           3,
           4
          ],
          "target": [
           1,
           2,
           3,
           4
          ],
          "value": [
           8248,
           3681,
           746,
           325,
           149
          ]
         },
         "node": {
          "color": [
           "blue",
           "red",
           "yellow",
           "green",
           "purple",
           "cyan",
           "black"
          ],
          "label": [
           "ProductViewed",
           "ProductAdded",
           "CartViewed",
           "Checkout",
           "Sale"
          ],
          "line": {
           "color": "black",
           "width": 0.5
          },
          "pad": 15,
          "thickness": 20
         },
         "type": "sankey",
         "visible": false
        },
        {
         "link": {
          "source": [
           0,
           1,
           2,
           3,
           4
          ],
          "target": [
           1,
           2,
           3,
           4
          ],
          "value": [
           9632,
           3475,
           728,
           303,
           161
          ]
         },
         "node": {
          "color": [
           "blue",
           "red",
           "yellow",
           "green",
           "purple",
           "cyan",
           "black"
          ],
          "label": [
           "ProductViewed",
           "ProductAdded",
           "CartViewed",
           "Checkout",
           "Sale"
          ],
          "line": {
           "color": "black",
           "width": 0.5
          },
          "pad": 15,
          "thickness": 20
         },
         "type": "sankey",
         "visible": false
        },
        {
         "link": {
          "source": [
           0,
           1,
           2,
           3,
           4
          ],
          "target": [
           1,
           2,
           3,
           4
          ],
          "value": [
           13357,
           2749,
           1067,
           436,
           220
          ]
         },
         "node": {
          "color": [
           "blue",
           "red",
           "yellow",
           "green",
           "purple",
           "cyan",
           "black"
          ],
          "label": [
           "ProductViewed",
           "ProductAdded",
           "CartViewed",
           "Checkout",
           "Sale"
          ],
          "line": {
           "color": "black",
           "width": 0.5
          },
          "pad": 15,
          "thickness": 20
         },
         "type": "sankey",
         "visible": false
        },
        {
         "link": {
          "source": [
           0,
           1,
           2,
           3,
           4
          ],
          "target": [
           1,
           2,
           3,
           4
          ],
          "value": [
           15662,
           3790,
           1213,
           489,
           237
          ]
         },
         "node": {
          "color": [
           "blue",
           "red",
           "yellow",
           "green",
           "purple",
           "cyan",
           "black"
          ],
          "label": [
           "ProductViewed",
           "ProductAdded",
           "CartViewed",
           "Checkout",
           "Sale"
          ],
          "line": {
           "color": "black",
           "width": 0.5
          },
          "pad": 15,
          "thickness": 20
         },
         "type": "sankey",
         "visible": false
        },
        {
         "link": {
          "source": [
           0,
           1,
           2,
           3,
           4
          ],
          "target": [
           1,
           2,
           3,
           4
          ],
          "value": [
           19394,
           4451,
           1501,
           625,
           312
          ]
         },
         "node": {
          "color": [
           "blue",
           "red",
           "yellow",
           "green",
           "purple",
           "cyan",
           "black"
          ],
          "label": [
           "ProductViewed",
           "ProductAdded",
           "CartViewed",
           "Checkout",
           "Sale"
          ],
          "line": {
           "color": "black",
           "width": 0.5
          },
          "pad": 15,
          "thickness": 20
         },
         "type": "sankey",
         "visible": false
        },
        {
         "link": {
          "source": [
           0,
           1,
           2,
           3,
           4
          ],
          "target": [
           1,
           2,
           3,
           4
          ],
          "value": [
           22518,
           5148,
           2359,
           934,
           447
          ]
         },
         "node": {
          "color": [
           "blue",
           "red",
           "yellow",
           "green",
           "purple",
           "cyan",
           "black"
          ],
          "label": [
           "ProductViewed",
           "ProductAdded",
           "CartViewed",
           "Checkout",
           "Sale"
          ],
          "line": {
           "color": "black",
           "width": 0.5
          },
          "pad": 15,
          "thickness": 20
         },
         "type": "sankey",
         "visible": false
        },
        {
         "link": {
          "source": [
           0,
           1,
           2,
           3,
           4
          ],
          "target": [
           1,
           2,
           3,
           4
          ],
          "value": [
           23842,
           5225,
           2462,
           932,
           461
          ]
         },
         "node": {
          "color": [
           "blue",
           "red",
           "yellow",
           "green",
           "purple",
           "cyan",
           "black"
          ],
          "label": [
           "ProductViewed",
           "ProductAdded",
           "CartViewed",
           "Checkout",
           "Sale"
          ],
          "line": {
           "color": "black",
           "width": 0.5
          },
          "pad": 15,
          "thickness": 20
         },
         "type": "sankey",
         "visible": false
        },
        {
         "link": {
          "source": [
           0,
           1,
           2,
           3,
           4
          ],
          "target": [
           1,
           2,
           3,
           4
          ],
          "value": [
           23896,
           6116,
           2755,
           1062,
           520
          ]
         },
         "node": {
          "color": [
           "blue",
           "red",
           "yellow",
           "green",
           "purple",
           "cyan",
           "black"
          ],
          "label": [
           "ProductViewed",
           "ProductAdded",
           "CartViewed",
           "Checkout",
           "Sale"
          ],
          "line": {
           "color": "black",
           "width": 0.5
          },
          "pad": 15,
          "thickness": 20
         },
         "type": "sankey",
         "visible": false
        },
        {
         "link": {
          "source": [
           0,
           1,
           2,
           3,
           4
          ],
          "target": [
           1,
           2,
           3,
           4
          ],
          "value": [
           24535,
           6806,
           2972,
           1161,
           589
          ]
         },
         "node": {
          "color": [
           "blue",
           "red",
           "yellow",
           "green",
           "purple",
           "cyan",
           "black"
          ],
          "label": [
           "ProductViewed",
           "ProductAdded",
           "CartViewed",
           "Checkout",
           "Sale"
          ],
          "line": {
           "color": "black",
           "width": 0.5
          },
          "pad": 15,
          "thickness": 20
         },
         "type": "sankey",
         "visible": false
        },
        {
         "link": {
          "source": [
           0,
           1,
           2,
           3,
           4
          ],
          "target": [
           1,
           2,
           3,
           4
          ],
          "value": [
           25421,
           6066,
           2451,
           953,
           494
          ]
         },
         "node": {
          "color": [
           "blue",
           "red",
           "yellow",
           "green",
           "purple",
           "cyan",
           "black"
          ],
          "label": [
           "ProductViewed",
           "ProductAdded",
           "CartViewed",
           "Checkout",
           "Sale"
          ],
          "line": {
           "color": "black",
           "width": 0.5
          },
          "pad": 15,
          "thickness": 20
         },
         "type": "sankey",
         "visible": false
        },
        {
         "link": {
          "source": [
           0,
           1,
           2,
           3,
           4
          ],
          "target": [
           1,
           2,
           3,
           4
          ],
          "value": [
           25930,
           4606,
           1893,
           752,
           383
          ]
         },
         "node": {
          "color": [
           "blue",
           "red",
           "yellow",
           "green",
           "purple",
           "cyan",
           "black"
          ],
          "label": [
           "ProductViewed",
           "ProductAdded",
           "CartViewed",
           "Checkout",
           "Sale"
          ],
          "line": {
           "color": "black",
           "width": 0.5
          },
          "pad": 15,
          "thickness": 20
         },
         "type": "sankey",
         "visible": false
        },
        {
         "link": {
          "source": [
           0,
           1,
           2,
           3,
           4
          ],
          "target": [
           1,
           2,
           3,
           4
          ],
          "value": [
           26276,
           5758,
           2802,
           1078,
           556
          ]
         },
         "node": {
          "color": [
           "blue",
           "red",
           "yellow",
           "green",
           "purple",
           "cyan",
           "black"
          ],
          "label": [
           "ProductViewed",
           "ProductAdded",
           "CartViewed",
           "Checkout",
           "Sale"
          ],
          "line": {
           "color": "black",
           "width": 0.5
          },
          "pad": 15,
          "thickness": 20
         },
         "type": "sankey",
         "visible": false
        },
        {
         "link": {
          "source": [
           0,
           1,
           2,
           3,
           4
          ],
          "target": [
           1,
           2,
           3,
           4
          ],
          "value": [
           28547,
           6659,
           2861,
           1203,
           607
          ]
         },
         "node": {
          "color": [
           "blue",
           "red",
           "yellow",
           "green",
           "purple",
           "cyan",
           "black"
          ],
          "label": [
           "ProductViewed",
           "ProductAdded",
           "CartViewed",
           "Checkout",
           "Sale"
          ],
          "line": {
           "color": "black",
           "width": 0.5
          },
          "pad": 15,
          "thickness": 20
         },
         "type": "sankey",
         "visible": false
        },
        {
         "link": {
          "source": [
           0,
           1,
           2,
           3,
           4
          ],
          "target": [
           1,
           2,
           3,
           4
          ],
          "value": [
           38559,
           5384,
           2311,
           967,
           480
          ]
         },
         "node": {
          "color": [
           "blue",
           "red",
           "yellow",
           "green",
           "purple",
           "cyan",
           "black"
          ],
          "label": [
           "ProductViewed",
           "ProductAdded",
           "CartViewed",
           "Checkout",
           "Sale"
          ],
          "line": {
           "color": "black",
           "width": 0.5
          },
          "pad": 15,
          "thickness": 20
         },
         "type": "sankey",
         "visible": false
        }
       ],
       "layout": {
        "autosize": false,
        "height": 500,
        "showlegend": false,
        "template": {
         "data": {
          "bar": [
           {
            "error_x": {
             "color": "#2a3f5f"
            },
            "error_y": {
             "color": "#2a3f5f"
            },
            "marker": {
             "line": {
              "color": "#E5ECF6",
              "width": 0.5
             },
             "pattern": {
              "fillmode": "overlay",
              "size": 10,
              "solidity": 0.2
             }
            },
            "type": "bar"
           }
          ],
          "barpolar": [
           {
            "marker": {
             "line": {
              "color": "#E5ECF6",
              "width": 0.5
             },
             "pattern": {
              "fillmode": "overlay",
              "size": 10,
              "solidity": 0.2
             }
            },
            "type": "barpolar"
           }
          ],
          "carpet": [
           {
            "aaxis": {
             "endlinecolor": "#2a3f5f",
             "gridcolor": "white",
             "linecolor": "white",
             "minorgridcolor": "white",
             "startlinecolor": "#2a3f5f"
            },
            "baxis": {
             "endlinecolor": "#2a3f5f",
             "gridcolor": "white",
             "linecolor": "white",
             "minorgridcolor": "white",
             "startlinecolor": "#2a3f5f"
            },
            "type": "carpet"
           }
          ],
          "choropleth": [
           {
            "colorbar": {
             "outlinewidth": 0,
             "ticks": ""
            },
            "type": "choropleth"
           }
          ],
          "contour": [
           {
            "colorbar": {
             "outlinewidth": 0,
             "ticks": ""
            },
            "colorscale": [
             [
              0,
              "#0d0887"
             ],
             [
              0.1111111111111111,
              "#46039f"
             ],
             [
              0.2222222222222222,
              "#7201a8"
             ],
             [
              0.3333333333333333,
              "#9c179e"
             ],
             [
              0.4444444444444444,
              "#bd3786"
             ],
             [
              0.5555555555555556,
              "#d8576b"
             ],
             [
              0.6666666666666666,
              "#ed7953"
             ],
             [
              0.7777777777777778,
              "#fb9f3a"
             ],
             [
              0.8888888888888888,
              "#fdca26"
             ],
             [
              1,
              "#f0f921"
             ]
            ],
            "type": "contour"
           }
          ],
          "contourcarpet": [
           {
            "colorbar": {
             "outlinewidth": 0,
             "ticks": ""
            },
            "type": "contourcarpet"
           }
          ],
          "heatmap": [
           {
            "colorbar": {
             "outlinewidth": 0,
             "ticks": ""
            },
            "colorscale": [
             [
              0,
              "#0d0887"
             ],
             [
              0.1111111111111111,
              "#46039f"
             ],
             [
              0.2222222222222222,
              "#7201a8"
             ],
             [
              0.3333333333333333,
              "#9c179e"
             ],
             [
              0.4444444444444444,
              "#bd3786"
             ],
             [
              0.5555555555555556,
              "#d8576b"
             ],
             [
              0.6666666666666666,
              "#ed7953"
             ],
             [
              0.7777777777777778,
              "#fb9f3a"
             ],
             [
              0.8888888888888888,
              "#fdca26"
             ],
             [
              1,
              "#f0f921"
             ]
            ],
            "type": "heatmap"
           }
          ],
          "heatmapgl": [
           {
            "colorbar": {
             "outlinewidth": 0,
             "ticks": ""
            },
            "colorscale": [
             [
              0,
              "#0d0887"
             ],
             [
              0.1111111111111111,
              "#46039f"
             ],
             [
              0.2222222222222222,
              "#7201a8"
             ],
             [
              0.3333333333333333,
              "#9c179e"
             ],
             [
              0.4444444444444444,
              "#bd3786"
             ],
             [
              0.5555555555555556,
              "#d8576b"
             ],
             [
              0.6666666666666666,
              "#ed7953"
             ],
             [
              0.7777777777777778,
              "#fb9f3a"
             ],
             [
              0.8888888888888888,
              "#fdca26"
             ],
             [
              1,
              "#f0f921"
             ]
            ],
            "type": "heatmapgl"
           }
          ],
          "histogram": [
           {
            "marker": {
             "pattern": {
              "fillmode": "overlay",
              "size": 10,
              "solidity": 0.2
             }
            },
            "type": "histogram"
           }
          ],
          "histogram2d": [
           {
            "colorbar": {
             "outlinewidth": 0,
             "ticks": ""
            },
            "colorscale": [
             [
              0,
              "#0d0887"
             ],
             [
              0.1111111111111111,
              "#46039f"
             ],
             [
              0.2222222222222222,
              "#7201a8"
             ],
             [
              0.3333333333333333,
              "#9c179e"
             ],
             [
              0.4444444444444444,
              "#bd3786"
             ],
             [
              0.5555555555555556,
              "#d8576b"
             ],
             [
              0.6666666666666666,
              "#ed7953"
             ],
             [
              0.7777777777777778,
              "#fb9f3a"
             ],
             [
              0.8888888888888888,
              "#fdca26"
             ],
             [
              1,
              "#f0f921"
             ]
            ],
            "type": "histogram2d"
           }
          ],
          "histogram2dcontour": [
           {
            "colorbar": {
             "outlinewidth": 0,
             "ticks": ""
            },
            "colorscale": [
             [
              0,
              "#0d0887"
             ],
             [
              0.1111111111111111,
              "#46039f"
             ],
             [
              0.2222222222222222,
              "#7201a8"
             ],
             [
              0.3333333333333333,
              "#9c179e"
             ],
             [
              0.4444444444444444,
              "#bd3786"
             ],
             [
              0.5555555555555556,
              "#d8576b"
             ],
             [
              0.6666666666666666,
              "#ed7953"
             ],
             [
              0.7777777777777778,
              "#fb9f3a"
             ],
             [
              0.8888888888888888,
              "#fdca26"
             ],
             [
              1,
              "#f0f921"
             ]
            ],
            "type": "histogram2dcontour"
           }
          ],
          "mesh3d": [
           {
            "colorbar": {
             "outlinewidth": 0,
             "ticks": ""
            },
            "type": "mesh3d"
           }
          ],
          "parcoords": [
           {
            "line": {
             "colorbar": {
              "outlinewidth": 0,
              "ticks": ""
             }
            },
            "type": "parcoords"
           }
          ],
          "pie": [
           {
            "automargin": true,
            "type": "pie"
           }
          ],
          "scatter": [
           {
            "marker": {
             "colorbar": {
              "outlinewidth": 0,
              "ticks": ""
             }
            },
            "type": "scatter"
           }
          ],
          "scatter3d": [
           {
            "line": {
             "colorbar": {
              "outlinewidth": 0,
              "ticks": ""
             }
            },
            "marker": {
             "colorbar": {
              "outlinewidth": 0,
              "ticks": ""
             }
            },
            "type": "scatter3d"
           }
          ],
          "scattercarpet": [
           {
            "marker": {
             "colorbar": {
              "outlinewidth": 0,
              "ticks": ""
             }
            },
            "type": "scattercarpet"
           }
          ],
          "scattergeo": [
           {
            "marker": {
             "colorbar": {
              "outlinewidth": 0,
              "ticks": ""
             }
            },
            "type": "scattergeo"
           }
          ],
          "scattergl": [
           {
            "marker": {
             "colorbar": {
              "outlinewidth": 0,
              "ticks": ""
             }
            },
            "type": "scattergl"
           }
          ],
          "scattermapbox": [
           {
            "marker": {
             "colorbar": {
              "outlinewidth": 0,
              "ticks": ""
             }
            },
            "type": "scattermapbox"
           }
          ],
          "scatterpolar": [
           {
            "marker": {
             "colorbar": {
              "outlinewidth": 0,
              "ticks": ""
             }
            },
            "type": "scatterpolar"
           }
          ],
          "scatterpolargl": [
           {
            "marker": {
             "colorbar": {
              "outlinewidth": 0,
              "ticks": ""
             }
            },
            "type": "scatterpolargl"
           }
          ],
          "scatterternary": [
           {
            "marker": {
             "colorbar": {
              "outlinewidth": 0,
              "ticks": ""
             }
            },
            "type": "scatterternary"
           }
          ],
          "surface": [
           {
            "colorbar": {
             "outlinewidth": 0,
             "ticks": ""
            },
            "colorscale": [
             [
              0,
              "#0d0887"
             ],
             [
              0.1111111111111111,
              "#46039f"
             ],
             [
              0.2222222222222222,
              "#7201a8"
             ],
             [
              0.3333333333333333,
              "#9c179e"
             ],
             [
              0.4444444444444444,
              "#bd3786"
             ],
             [
              0.5555555555555556,
              "#d8576b"
             ],
             [
              0.6666666666666666,
              "#ed7953"
             ],
             [
              0.7777777777777778,
              "#fb9f3a"
             ],
             [
              0.8888888888888888,
              "#fdca26"
             ],
             [
              1,
              "#f0f921"
             ]
            ],
            "type": "surface"
           }
          ],
          "table": [
           {
            "cells": {
             "fill": {
              "color": "#EBF0F8"
             },
             "line": {
              "color": "white"
             }
            },
            "header": {
             "fill": {
              "color": "#C8D4E3"
             },
             "line": {
              "color": "white"
             }
            },
            "type": "table"
           }
          ]
         },
         "layout": {
          "annotationdefaults": {
           "arrowcolor": "#2a3f5f",
           "arrowhead": 0,
           "arrowwidth": 1
          },
          "autotypenumbers": "strict",
          "coloraxis": {
           "colorbar": {
            "outlinewidth": 0,
            "ticks": ""
           }
          },
          "colorscale": {
           "diverging": [
            [
             0,
             "#8e0152"
            ],
            [
             0.1,
             "#c51b7d"
            ],
            [
             0.2,
             "#de77ae"
            ],
            [
             0.3,
             "#f1b6da"
            ],
            [
             0.4,
             "#fde0ef"
            ],
            [
             0.5,
             "#f7f7f7"
            ],
            [
             0.6,
             "#e6f5d0"
            ],
            [
             0.7,
             "#b8e186"
            ],
            [
             0.8,
             "#7fbc41"
            ],
            [
             0.9,
             "#4d9221"
            ],
            [
             1,
             "#276419"
            ]
           ],
           "sequential": [
            [
             0,
             "#0d0887"
            ],
            [
             0.1111111111111111,
             "#46039f"
            ],
            [
             0.2222222222222222,
             "#7201a8"
            ],
            [
             0.3333333333333333,
             "#9c179e"
            ],
            [
             0.4444444444444444,
             "#bd3786"
            ],
            [
             0.5555555555555556,
             "#d8576b"
            ],
            [
             0.6666666666666666,
             "#ed7953"
            ],
            [
             0.7777777777777778,
             "#fb9f3a"
            ],
            [
             0.8888888888888888,
             "#fdca26"
            ],
            [
             1,
             "#f0f921"
            ]
           ],
           "sequentialminus": [
            [
             0,
             "#0d0887"
            ],
            [
             0.1111111111111111,
             "#46039f"
            ],
            [
             0.2222222222222222,
             "#7201a8"
            ],
            [
             0.3333333333333333,
             "#9c179e"
            ],
            [
             0.4444444444444444,
             "#bd3786"
            ],
            [
             0.5555555555555556,
             "#d8576b"
            ],
            [
             0.6666666666666666,
             "#ed7953"
            ],
            [
             0.7777777777777778,
             "#fb9f3a"
            ],
            [
             0.8888888888888888,
             "#fdca26"
            ],
            [
             1,
             "#f0f921"
            ]
           ]
          },
          "colorway": [
           "#636efa",
           "#EF553B",
           "#00cc96",
           "#ab63fa",
           "#FFA15A",
           "#19d3f3",
           "#FF6692",
           "#B6E880",
           "#FF97FF",
           "#FECB52"
          ],
          "font": {
           "color": "#2a3f5f"
          },
          "geo": {
           "bgcolor": "white",
           "lakecolor": "white",
           "landcolor": "#E5ECF6",
           "showlakes": true,
           "showland": true,
           "subunitcolor": "white"
          },
          "hoverlabel": {
           "align": "left"
          },
          "hovermode": "closest",
          "mapbox": {
           "style": "light"
          },
          "paper_bgcolor": "white",
          "plot_bgcolor": "#E5ECF6",
          "polar": {
           "angularaxis": {
            "gridcolor": "white",
            "linecolor": "white",
            "ticks": ""
           },
           "bgcolor": "#E5ECF6",
           "radialaxis": {
            "gridcolor": "white",
            "linecolor": "white",
            "ticks": ""
           }
          },
          "scene": {
           "xaxis": {
            "backgroundcolor": "#E5ECF6",
            "gridcolor": "white",
            "gridwidth": 2,
            "linecolor": "white",
            "showbackground": true,
            "ticks": "",
            "zerolinecolor": "white"
           },
           "yaxis": {
            "backgroundcolor": "#E5ECF6",
            "gridcolor": "white",
            "gridwidth": 2,
            "linecolor": "white",
            "showbackground": true,
            "ticks": "",
            "zerolinecolor": "white"
           },
           "zaxis": {
            "backgroundcolor": "#E5ECF6",
            "gridcolor": "white",
            "gridwidth": 2,
            "linecolor": "white",
            "showbackground": true,
            "ticks": "",
            "zerolinecolor": "white"
           }
          },
          "shapedefaults": {
           "line": {
            "color": "#2a3f5f"
           }
          },
          "ternary": {
           "aaxis": {
            "gridcolor": "white",
            "linecolor": "white",
            "ticks": ""
           },
           "baxis": {
            "gridcolor": "white",
            "linecolor": "white",
            "ticks": ""
           },
           "bgcolor": "#E5ECF6",
           "caxis": {
            "gridcolor": "white",
            "linecolor": "white",
            "ticks": ""
           }
          },
          "title": {
           "x": 0.05
          },
          "xaxis": {
           "automargin": true,
           "gridcolor": "white",
           "linecolor": "white",
           "ticks": "",
           "title": {
            "standoff": 15
           },
           "zerolinecolor": "white",
           "zerolinewidth": 2
          },
          "yaxis": {
           "automargin": true,
           "gridcolor": "white",
           "linecolor": "white",
           "ticks": "",
           "title": {
            "standoff": 15
           },
           "zerolinecolor": "white",
           "zerolinewidth": 2
          }
         }
        },
        "title": {
         "text": "~ 85% of Total customers Churn at Product-Viewed"
        },
        "updatemenus": [
         {
          "active": 1,
          "buttons": [
           {
            "args": [
             {
              "visible": [
               true,
               false,
               false,
               false,
               false,
               false,
               false,
               false,
               false,
               false,
               false,
               false,
               false,
               false,
               false,
               false
              ]
             }
            ],
            "label": "jewelry",
            "method": "update"
           },
           {
            "args": [
             {
              "visible": [
               false,
               true,
               false,
               false,
               false,
               false,
               false,
               false,
               false,
               false,
               false,
               false,
               false,
               false,
               false,
               false
              ]
             }
            ],
            "label": "books",
            "method": "update"
           },
           {
            "args": [
             {
              "visible": [
               false,
               false,
               true,
               false,
               false,
               false,
               false,
               false,
               false,
               false,
               false,
               false,
               false,
               false,
               false,
               false
              ]
             }
            ],
            "label": "tools",
            "method": "update"
           },
           {
            "args": [
             {
              "visible": [
               false,
               false,
               false,
               true,
               false,
               false,
               false,
               false,
               false,
               false,
               false,
               false,
               false,
               false,
               false,
               false
              ]
             }
            ],
            "label": "beauty",
            "method": "update"
           },
           {
            "args": [
             {
              "visible": [
               false,
               false,
               false,
               false,
               true,
               false,
               false,
               false,
               false,
               false,
               false,
               false,
               false,
               false,
               false,
               false
              ]
             }
            ],
            "label": "outdoors",
            "method": "update"
           },
           {
            "args": [
             {
              "visible": [
               false,
               false,
               false,
               false,
               false,
               true,
               false,
               false,
               false,
               false,
               false,
               false,
               false,
               false,
               false,
               false
              ]
             }
            ],
            "label": "electronics",
            "method": "update"
           },
           {
            "args": [
             {
              "visible": [
               false,
               false,
               false,
               false,
               false,
               false,
               true,
               false,
               false,
               false,
               false,
               false,
               false,
               false,
               false,
               false
              ]
             }
            ],
            "label": "floral",
            "method": "update"
           },
           {
            "args": [
             {
              "visible": [
               false,
               false,
               false,
               false,
               false,
               false,
               false,
               true,
               false,
               false,
               false,
               false,
               false,
               false,
               false,
               false
              ]
             }
            ],
            "label": "footwear",
            "method": "update"
           },
           {
            "args": [
             {
              "visible": [
               false,
               false,
               false,
               false,
               false,
               false,
               false,
               false,
               true,
               false,
               false,
               false,
               false,
               false,
               false,
               false
              ]
             }
            ],
            "label": "groceries",
            "method": "update"
           },
           {
            "args": [
             {
              "visible": [
               false,
               false,
               false,
               false,
               false,
               false,
               false,
               false,
               false,
               true,
               false,
               false,
               false,
               false,
               false,
               false
              ]
             }
            ],
            "label": "seasonal",
            "method": "update"
           },
           {
            "args": [
             {
              "visible": [
               false,
               false,
               false,
               false,
               false,
               false,
               false,
               false,
               false,
               false,
               true,
               false,
               false,
               false,
               false,
               false
              ]
             }
            ],
            "label": "furniture",
            "method": "update"
           },
           {
            "args": [
             {
              "visible": [
               false,
               false,
               false,
               false,
               false,
               false,
               false,
               false,
               false,
               false,
               false,
               true,
               false,
               false,
               false,
               false
              ]
             }
            ],
            "label": "homedecor",
            "method": "update"
           },
           {
            "args": [
             {
              "visible": [
               false,
               false,
               false,
               false,
               false,
               false,
               false,
               false,
               false,
               false,
               false,
               false,
               true,
               false,
               false,
               false
              ]
             }
            ],
            "label": "instruments",
            "method": "update"
           },
           {
            "args": [
             {
              "visible": [
               false,
               false,
               false,
               false,
               false,
               false,
               false,
               false,
               false,
               false,
               false,
               false,
               false,
               true,
               false,
               false
              ]
             }
            ],
            "label": "accessories",
            "method": "update"
           },
           {
            "args": [
             {
              "visible": [
               false,
               false,
               false,
               false,
               false,
               false,
               false,
               false,
               false,
               false,
               false,
               false,
               false,
               false,
               true,
               false
              ]
             }
            ],
            "label": "apparel",
            "method": "update"
           },
           {
            "args": [
             {
              "visible": [
               false,
               false,
               false,
               false,
               false,
               false,
               false,
               false,
               false,
               false,
               false,
               false,
               false,
               false,
               false,
               true
              ]
             }
            ],
            "label": "housewares",
            "method": "update"
           }
          ],
          "direction": "down",
          "showactive": true,
          "x": 1,
          "y": 1.05
         }
        ],
        "width": 1000
       }
      }
     },
     "metadata": {},
     "output_type": "display_data"
    }
   ],
   "source": [
    "categories =df_i.index.values.tolist()\n",
    "category_plot_names = []\n",
    "fig = go.Figure()\n",
    "\n",
    "buttons=[]\n",
    "\n",
    "default_category = \"books\"\n",
    "\n",
    "for cat in categories:\n",
    "    x = sorted(df_i.loc[cat].values.tolist(), reverse=True)\n",
    "    fig.add_traces(go.Sankey(\n",
    "    node = dict(\n",
    "      pad = 15,\n",
    "      thickness = 20,\n",
    "      line = dict(color = \"black\", width = 0.5),\n",
    "      label = ['ProductViewed', \"ProductAdded\", 'CartViewed','Checkout', 'Sale' ],\n",
    "      color = [\"blue\", \"red\", \"yellow\", \"green\", \"purple\", \"cyan\", \"black\"] \n",
    "    ),\n",
    "    link = dict(\n",
    "      source = [0, 1, 2, 3, 4],\n",
    "      target = [1, 2, 3, 4],\n",
    "      value = x\n",
    "    ), \n",
    "    visible=(cat==default_category)\n",
    "    ))\n",
    "    \n",
    "    category_plot_names.append(cat)\n",
    "\n",
    "for cat in categories:\n",
    "    buttons.append(dict(method='update',\n",
    "                        label=cat,\n",
    "                        args = [{'visible': [cat==r for r in category_plot_names]}])) \n",
    "    \n",
    "# Add dropdown menus to the figure\n",
    "fig.update_layout(showlegend=False, updatemenus=[{\"buttons\": buttons, \"direction\": \"down\",\n",
    "                                                  \"active\": categories.index(default_category),\n",
    "                                                  \"showactive\": True, \"x\": 1, \"y\": 1.05}],\n",
    "                  title_text = \"~ 85% of Total customers Churn at Product-Viewed\",\n",
    "                  autosize = False,\n",
    "                  width = 1000,\n",
    "                  height = 500)\n",
    "#fig.show() #uncomment to render interactive plot\n",
    "fig.show(renderer= \"png\") #comment to render interactive plot\n"
   ]
  },
  {
   "cell_type": "code",
   "execution_count": null,
   "metadata": {},
   "outputs": [],
   "source": []
  }
 ],
 "metadata": {
  "interpreter": {
   "hash": "6849a5e839599e87325b9e72e1a7f95ec21b3334a1aaf3b38ea62307fa53ff83"
  },
  "kernelspec": {
   "display_name": "Python 3.7.10 64-bit ('rfm': venv)",
   "language": "python",
   "name": "python3"
  },
  "language_info": {
   "codemirror_mode": {
    "name": "ipython",
    "version": 3
   },
   "file_extension": ".py",
   "mimetype": "text/x-python",
   "name": "python",
   "nbconvert_exporter": "python",
   "pygments_lexer": "ipython3",
   "version": "3.7.10"
  },
  "orig_nbformat": 4
 },
 "nbformat": 4,
 "nbformat_minor": 2
}
