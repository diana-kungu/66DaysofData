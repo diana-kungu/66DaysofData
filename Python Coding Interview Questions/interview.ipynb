{
 "cells": [
  {
   "cell_type": "markdown",
   "metadata": {},
   "source": [
    "#### 1. Reverse an integer"
   ]
  },
  {
   "cell_type": "code",
   "execution_count": 1,
   "metadata": {},
   "outputs": [
    {
     "name": "stdout",
     "output_type": "stream",
     "text": [
      "69\n"
     ]
    }
   ],
   "source": [
    "def reverse_int(x):\n",
    "    string = str(x)\n",
    "    \n",
    "    if string[0] == '-':\n",
    "        return int('-'+string[:0:-1])\n",
    "    else:\n",
    "        return int(string[::-1])\n",
    "    \n",
    "print(reverse_int(96))\n"
   ]
  },
  {
   "cell_type": "markdown",
   "metadata": {},
   "source": [
    "#### 2. Average Word Length"
   ]
  },
  {
   "cell_type": "code",
   "execution_count": 2,
   "metadata": {},
   "outputs": [
    {
     "data": {
      "text/plain": [
       "4.08"
      ]
     },
     "execution_count": 2,
     "metadata": {},
     "output_type": "execute_result"
    }
   ],
   "source": [
    "# For a given sentence find average word length\n",
    "# Remove punctuations\n",
    "\n",
    "import re\n",
    "\n",
    "sentence_1 = \"Hey! There do you love python?\"\n",
    "sentence_2 = \"I need to work very hard to learn more about algorithms in Python!\"\n",
    "\n",
    "def avg_word_len(x):\n",
    "    #remove punctuations\n",
    "    sentence = re.sub(r'[^\\w\\s]', '', x)\n",
    "    #Split sentence in words\n",
    "    sentence = sentence.split()\n",
    "    \n",
    "    avg_length =  round(sum([len(w) for w in sentence])/len(sentence),2)\n",
    "    return avg_length\n",
    "\n",
    "avg_word_len(sentence_2)"
   ]
  },
  {
   "cell_type": "markdown",
   "metadata": {},
   "source": [
    "#### 3. Add String"
   ]
  },
  {
   "cell_type": "code",
   "execution_count": 3,
   "metadata": {},
   "outputs": [
    {
     "name": "stdout",
     "output_type": "stream",
     "text": [
      "2200\n"
     ]
    }
   ],
   "source": [
    "# Given two non-negative integers num1 and num2 represented as string, return the sum of num1 and num2.\n",
    "# You must not use any built-in BigInteger library or convert the inputs to integer directly.\n",
    "\n",
    "#Notes:\n",
    "#Both num1 and num2 contains only digits 0-9.\n",
    "#Both num1 and num2 does not contain any leading zero.\n",
    "\n",
    "num1 = '364'\n",
    "num2 = '1836'\n",
    "\n",
    "def solution(num1,num2):\n",
    "    eval(num1) + eval(num2)\n",
    "    return str(eval(num1) + eval(num2))\n",
    "            \n",
    "print(solution(num1,num2))"
   ]
  },
  {
   "cell_type": "markdown",
   "metadata": {},
   "source": [
    "#### 4. First Unique Character"
   ]
  },
  {
   "cell_type": "code",
   "execution_count": 4,
   "metadata": {},
   "outputs": [
    {
     "data": {
      "text/plain": [
       "2"
      ]
     },
     "execution_count": 4,
     "metadata": {},
     "output_type": "execute_result"
    }
   ],
   "source": [
    "# Given a string, find the first non-repeating character in it and return its index. \n",
    "# If it doesn't exist, return -1. # Note: all the input strings are already lowercase.\n",
    "\n",
    "from collections import Counter\n",
    "\n",
    "string = 'lowercaselO'\n",
    "\n",
    "def unique_ch(s):\n",
    "    count = Counter(s.lower())\n",
    "    \n",
    "    # find the index\n",
    "    for idx, ch in enumerate(s):\n",
    "        if count[ch] == 1:\n",
    "            return idx     \n",
    "    return -1\n",
    "\n",
    "unique_ch(string)\n"
   ]
  },
  {
   "cell_type": "markdown",
   "metadata": {},
   "source": [
    "#### 5. Palindrome"
   ]
  },
  {
   "cell_type": "code",
   "execution_count": 5,
   "metadata": {},
   "outputs": [
    {
     "data": {
      "text/plain": [
       "(True, 'rakar')"
      ]
     },
     "execution_count": 5,
     "metadata": {},
     "output_type": "execute_result"
    }
   ],
   "source": [
    "# Given a non-empty string s, you may delete at most one character. Judge whether you can make it a palindrome.\n",
    "# The string will only contain lowercase characters a-z.\n",
    "\n",
    "s = 'radkar'\n",
    "\n",
    "def test_palindrome(s):\n",
    "    for indx in range(len(s)):\n",
    "        word = ''.join(x for x in s if s.index(x) != indx) \n",
    "           \n",
    "        #test for palindrome\n",
    "        if word == word[::-1]: return True, word\n",
    "        \n",
    "    return word == word[::-1]\n",
    "    \n",
    "test_palindrome(s)"
   ]
  },
  {
   "cell_type": "markdown",
   "metadata": {},
   "source": [
    "#### 6. Monotonic Arrays"
   ]
  },
  {
   "cell_type": "code",
   "execution_count": 6,
   "metadata": {},
   "outputs": [
    {
     "data": {
      "text/plain": [
       "True"
      ]
     },
     "execution_count": 6,
     "metadata": {},
     "output_type": "execute_result"
    }
   ],
   "source": [
    "# Given an array of integers, determine whether the array is monotonic or not.\n",
    "A = [6, 5, 4, 4] \n",
    "B = [1,1,1,3,3,4,3,2,4,2]\n",
    "C = [1,1,2,3,7]\n",
    "\n",
    "def monotonic(a):\n",
    "    test = all([a[i]>= a[i+1] for i in range(len(a)-1)]) or\\\n",
    "           all([a[i]<= a[i+1] for i in range(len(a)-1)])\n",
    "    return test\n",
    "monotonic(C)"
   ]
  },
  {
   "cell_type": "markdown",
   "metadata": {},
   "source": [
    "#### 7. Move Zeros"
   ]
  },
  {
   "cell_type": "code",
   "execution_count": 7,
   "metadata": {},
   "outputs": [
    {
     "name": "stdout",
     "output_type": "stream",
     "text": [
      "[1, 7, 8, 10, 12, 4, 0, 0, 0, 0]\n"
     ]
    }
   ],
   "source": [
    "#Given an array nums, write a function to move all zeroes to the end of it while maintaining the relative order of \n",
    "#the non-zero elements.\n",
    "\n",
    "array1 = [0,1,0,3,12]\n",
    "array2 = [1,7,0,0,8,0,10,12,0,4]\n",
    "\n",
    "def move_zeros(x):\n",
    "    zeros = x.count(0)\n",
    "    x= [i for i in x if i !=0 ]\n",
    "    x.extend([0]* zeros)\n",
    "    return x\n",
    "print(move_zeros(array2))"
   ]
  },
  {
   "cell_type": "markdown",
   "metadata": {},
   "source": [
    "#### 8.Fill the Blanks"
   ]
  },
  {
   "cell_type": "code",
   "execution_count": 8,
   "metadata": {},
   "outputs": [
    {
     "data": {
      "text/plain": [
       "[1, 1, 2, 3, 3, 3, 5, 5]"
      ]
     },
     "execution_count": 8,
     "metadata": {},
     "output_type": "execute_result"
    }
   ],
   "source": [
    "# Given an array containing None values fill in the None values with most recent \n",
    "# non None value in the array\n",
    "\n",
    "array1 = [1,None,2,3,None,None,5,None]\n",
    "\n",
    "def backfill(x):\n",
    "    res =[]\n",
    "    valid = 0\n",
    "    for num in (x):\n",
    "        if num is not None:\n",
    "            res.append(num)\n",
    "            valid = num\n",
    "        else:\n",
    "            res.append(valid)\n",
    "            \n",
    "    return res\n",
    "            \n",
    "backfill(array1)\n",
    "            "
   ]
  },
  {
   "cell_type": "markdown",
   "metadata": {},
   "source": [
    "#### 9. Matched and Mismatched Words"
   ]
  },
  {
   "cell_type": "code",
   "execution_count": 9,
   "metadata": {},
   "outputs": [
    {
     "data": {
      "text/plain": [
       "(['The',\n",
       "  'We',\n",
       "  'a',\n",
       "  'are',\n",
       "  'by',\n",
       "  'heavy',\n",
       "  'hit',\n",
       "  'in',\n",
       "  'meet',\n",
       "  'our',\n",
       "  'pleased',\n",
       "  'storm',\n",
       "  'to',\n",
       "  'was',\n",
       "  'you'],\n",
       " ['city', 'really'])"
      ]
     },
     "execution_count": 9,
     "metadata": {},
     "output_type": "execute_result"
    }
   ],
   "source": [
    "#Given two sentences, return an array that has the words that appear in one sentence and not\n",
    "#the other and an array with the words in common. \n",
    "\n",
    "sentence1 = 'We are really pleased to meet you in our city'\n",
    "sentence2 = 'The city was hit by a really heavy storm'\n",
    "\n",
    "def soln_9(s1, s2):\n",
    "    s1 = set(s1.split())\n",
    "    s2 = set(s2.split())\n",
    "    #common = list(s1.intersection(s2))\n",
    "    return sorted(list(s1^s2)), list(s1&(s2))\n",
    "\n",
    "soln_9(sentence1, sentence2)"
   ]
  },
  {
   "cell_type": "markdown",
   "metadata": {},
   "source": [
    "#### 10. Prime Numbers Array"
   ]
  },
  {
   "cell_type": "code",
   "execution_count": 10,
   "metadata": {},
   "outputs": [
    {
     "data": {
      "text/plain": [
       "[2, 3, 5, 7, 11, 13, 17, 19, 23, 29, 31]"
      ]
     },
     "execution_count": 10,
     "metadata": {},
     "output_type": "execute_result"
    }
   ],
   "source": [
    "# Given k numbers which are less than n, return the set of prime number among them\n",
    "# Note: The task is to write a program to print all Prime numbers in an Interval.\n",
    "# Definition: A prime number is a natural number greater than 1 that has no positive divisors other than 1 and itself. \n",
    "\n",
    "n= 35\n",
    "def prime_nos(n):\n",
    "    lst = []\n",
    "    for num in range(n):\n",
    "        if num > 1:\n",
    "            for i in range(2, num):\n",
    "                if (num % i) == 0:\n",
    "                    break\n",
    "            else:\n",
    "                lst.append(num)\n",
    "    return lst\n",
    "prime_nos(35)"
   ]
  },
  {
   "cell_type": "markdown",
   "metadata": {},
   "source": [
    "#### 11. Split a string"
   ]
  },
  {
   "cell_type": "code",
   "execution_count": 11,
   "metadata": {},
   "outputs": [
    {
     "data": {
      "text/plain": [
       "['I',\n",
       " 'n',\n",
       " '1',\n",
       " '4',\n",
       " 't',\n",
       " 'h',\n",
       " 'e',\n",
       " 'w',\n",
       " 'a',\n",
       " 's',\n",
       " 'a',\n",
       " 'g',\n",
       " 'r',\n",
       " 'e',\n",
       " 'a',\n",
       " 't']"
      ]
     },
     "execution_count": 11,
     "metadata": {},
     "output_type": "execute_result"
    }
   ],
   "source": [
    "# Split a string to a list and remove whitespaces and integers greater than 5.\n",
    "s ='In 1984 the was a great'\n",
    "\n",
    "def str_to_list( str ) :\n",
    "\t#Insert your code here\n",
    "\tlst= []\n",
    "\t\n",
    "\tfor x in str:\n",
    "\t\ttry:\n",
    "\t\t\tif int(x) <= 5:\n",
    "\t\t\t\tlst.append(x)\n",
    "\t\texcept:\n",
    "\t\t\tif  x != \" \":\n",
    "\t\t\t\tlst.append(x)\n",
    "\treturn lst\n",
    "str_to_list(s)"
   ]
  },
  {
   "cell_type": "markdown",
   "metadata": {},
   "source": [
    "#### 12. Fibonacci number"
   ]
  },
  {
   "cell_type": "code",
   "execution_count": 12,
   "metadata": {},
   "outputs": [
    {
     "data": {
      "text/plain": [
       "(5, [0, 1, 1, 2, 3, 5])"
      ]
     },
     "execution_count": 12,
     "metadata": {},
     "output_type": "execute_result"
    }
   ],
   "source": [
    "#Method 1 - Recursive\n",
    "'''def fib(n):\n",
    "    if n < 2:\n",
    "        return n\n",
    "    return fib(n-1) + fib(n-2)\n",
    "\n",
    "fib(4)'''\n",
    "\n",
    "#Method 2 Iterative Method\n",
    "\n",
    "def fib2(n):\n",
    "    l = [0]\n",
    "    a,b = 0, 1\n",
    "    for i in range(0,n):\n",
    "        a, b = b, a +b\n",
    "        l.append(a)\n",
    "    return a, l\n",
    "fib2(5)       "
   ]
  },
  {
   "cell_type": "markdown",
   "metadata": {},
   "source": [
    "#### 13. Reverse String"
   ]
  },
  {
   "cell_type": "code",
   "execution_count": 13,
   "metadata": {},
   "outputs": [
    {
     "name": "stdout",
     "output_type": "stream",
     "text": [
      "!nohtyp evol\n",
      "love python!\n"
     ]
    },
    {
     "data": {
      "text/plain": [
       "'evol !nohtyp'"
      ]
     },
     "execution_count": 13,
     "metadata": {},
     "output_type": "execute_result"
    }
   ],
   "source": [
    "s = \"love python!\"\n",
    "#method 1\n",
    "s = ''.join(s[-i] for i in range(1, len(s)+1))\n",
    "print(s)\n",
    "#method 2\n",
    "s = s[::-1]\n",
    "print(s)\n",
    "\n",
    "## Another Variation\n",
    "#Given a string, you need to reverse the order of characters \n",
    "#in each word within a sentence while still preserving whitespace and initial word order\n",
    "\n",
    "def rev_str(s):\n",
    "    s= [w[::-1] for w in s.split()]\n",
    "    return ' '.join(w for w in s)\n",
    "rev_str(s)\n",
    "    "
   ]
  },
  {
   "cell_type": "markdown",
   "metadata": {},
   "source": [
    "#### 14. Check two arrays are equivalent"
   ]
  },
  {
   "cell_type": "code",
   "execution_count": 14,
   "metadata": {},
   "outputs": [
    {
     "data": {
      "text/plain": [
       "True"
      ]
     },
     "execution_count": 14,
     "metadata": {},
     "output_type": "execute_result"
    }
   ],
   "source": [
    "word1 = ['a', 'cd']\n",
    "word2 = ['ac', 'd']\n",
    "\n",
    "def two_words_equivalent(w1, w2):\n",
    "    return ''.join(i for i in w1) == ''.join(i for i in w2)\n",
    "\n",
    "two_words_equivalent(word1, word2)"
   ]
  },
  {
   "cell_type": "markdown",
   "metadata": {},
   "source": [
    "#### 15. Sum Matrix Diagonal"
   ]
  },
  {
   "cell_type": "code",
   "execution_count": 15,
   "metadata": {},
   "outputs": [
    {
     "name": "stdout",
     "output_type": "stream",
     "text": [
      "[[1 2 3]\n",
      " [0 3 5]\n",
      " [1 1 1]]\n"
     ]
    },
    {
     "data": {
      "text/plain": [
       "9"
      ]
     },
     "execution_count": 15,
     "metadata": {},
     "output_type": "execute_result"
    }
   ],
   "source": [
    "import numpy as np \n",
    "\n",
    "def sum_diagnoal(mat):\n",
    "    n = len(mat)\n",
    "    output = 0\n",
    "    \n",
    "    for i in range(n):\n",
    "        output = output + mat[i][i]\n",
    "        if i != n-1-i:\n",
    "            output = output + mat[i][n-1-i]\n",
    "        \n",
    "    return output\n",
    "mat = np.array([[1,2,3],[0,3,5],[1,1,1]])\n",
    "print(mat)\n",
    "sum_diagnoal(mat)"
   ]
  },
  {
   "cell_type": "markdown",
   "metadata": {},
   "source": [
    "#### 16. Amrstrong Integer"
   ]
  },
  {
   "cell_type": "code",
   "execution_count": 16,
   "metadata": {},
   "outputs": [
    {
     "data": {
      "text/plain": [
       "True"
      ]
     },
     "execution_count": 16,
     "metadata": {},
     "output_type": "execute_result"
    }
   ],
   "source": [
    "#a number which is equal to the sum of cube of its digits\n",
    "n = 123\n",
    "def armstrong(n):\n",
    "    return sum([int(str(n)[i])**3 for i in range(len(str(n)))]) == n\n",
    "\n",
    "armstrong(370)"
   ]
  },
  {
   "cell_type": "markdown",
   "metadata": {},
   "source": [
    "#### 17. Prime Numbers"
   ]
  },
  {
   "cell_type": "code",
   "execution_count": 17,
   "metadata": {},
   "outputs": [
    {
     "data": {
      "text/plain": [
       "False"
      ]
     },
     "execution_count": 17,
     "metadata": {},
     "output_type": "execute_result"
    }
   ],
   "source": [
    "n = 7\n",
    "\n",
    "def prime(n):\n",
    "    if n>1 and n < 3:\n",
    "        return True\n",
    "    for i in range(2, n):\n",
    "        if n%i == 0:\n",
    "            return False\n",
    "            break\n",
    "    else:\n",
    "        return True\n",
    "        \n",
    "prime(6) "
   ]
  },
  {
   "cell_type": "markdown",
   "metadata": {},
   "source": [
    "#### 18. N- Largests Values in an array"
   ]
  },
  {
   "cell_type": "code",
   "execution_count": 18,
   "metadata": {},
   "outputs": [
    {
     "name": "stdout",
     "output_type": "stream",
     "text": [
      "Enter an integer less than 6\n"
     ]
    }
   ],
   "source": [
    "#import numpy as np\n",
    "#n = int(input('Enter an integer'))\n",
    "def n_largest(n):\n",
    "    \n",
    "    arr = np.array([2,4,96, 54, 63, 14])\n",
    "    if n <= len(arr): return arr[np.argsort(arr)[-n:]]\n",
    "    else:\n",
    "        return print(f'Enter an integer less than {len(arr)}')\n",
    "        \n",
    "n_largest(13)"
   ]
  },
  {
   "cell_type": "markdown",
   "metadata": {},
   "source": [
    "#### 19. Swap Two number"
   ]
  },
  {
   "cell_type": "code",
   "execution_count": 19,
   "metadata": {},
   "outputs": [
    {
     "name": "stdout",
     "output_type": "stream",
     "text": [
      "5 2\n"
     ]
    }
   ],
   "source": [
    "#Method 1 : Using temp variable\n",
    "a, b = 2, 5\n",
    "'''temp = a \n",
    "a = b\n",
    "b = temp\n",
    "print(a, b)'''\n",
    "\n",
    "#Method 2 without temp variable\n",
    "a, b = b, a \n",
    "print(a, b)\n"
   ]
  },
  {
   "cell_type": "markdown",
   "metadata": {},
   "source": [
    "#### 20. Prime Factors of an integer"
   ]
  },
  {
   "cell_type": "code",
   "execution_count": 29,
   "metadata": {},
   "outputs": [
    {
     "data": {
      "text/plain": [
       "[1, 2, 17]"
      ]
     },
     "execution_count": 29,
     "metadata": {},
     "output_type": "execute_result"
    }
   ],
   "source": [
    "n = 56\n",
    "\n",
    "def prime_factors(n):\n",
    "    l = []\n",
    "    for num in range(1,n+1):\n",
    "        for i in range(2, num):\n",
    "            if (num % i) == 0: break\n",
    "        else:\n",
    "            l.append(num)\n",
    "    l = [x for x in  l if n%x == 0 ]\n",
    "    return l\n",
    "prime_factors(136)   "
   ]
  },
  {
   "cell_type": "markdown",
   "metadata": {},
   "source": [
    "#### 21. Add two integers without arithmetic operator"
   ]
  },
  {
   "cell_type": "code",
   "execution_count": 31,
   "metadata": {},
   "outputs": [
    {
     "data": {
      "text/plain": [
       "24"
      ]
     },
     "execution_count": 31,
     "metadata": {},
     "output_type": "execute_result"
    }
   ],
   "source": [
    "def add_without_plus_operator(a, b):\n",
    "    while b != 0:\n",
    "        data = a & b\n",
    "        a = a ^ b\n",
    "        b = data << 1\n",
    "    return a \n",
    "add_without_plus_operator(2, 22)"
   ]
  },
  {
   "cell_type": "markdown",
   "metadata": {},
   "source": [
    "#### 22. Find missing number in an array"
   ]
  },
  {
   "cell_type": "code",
   "execution_count": 47,
   "metadata": {},
   "outputs": [
    {
     "data": {
      "text/plain": [
       "array([70])"
      ]
     },
     "execution_count": 47,
     "metadata": {},
     "output_type": "execute_result"
    }
   ],
   "source": [
    "# In array with  1 - 100 with one number missing find the missing number\n",
    "arr1 = np.arange(1,101)\n",
    "arr2 = np.random.choice(arr1,99, replace=0)\n",
    "\n",
    "ele = arr1[[ item not in arr2 for item in arr1]]\n"
   ]
  },
  {
   "cell_type": "markdown",
   "metadata": {},
   "source": [
    "#### 23. Find Duplicate in an array"
   ]
  },
  {
   "cell_type": "code",
   "execution_count": 56,
   "metadata": {},
   "outputs": [
    {
     "name": "stdout",
     "output_type": "stream",
     "text": [
      "There following are duplicated values; [4]\n"
     ]
    }
   ],
   "source": [
    "arr = [4,1,4,2,6]\n",
    "u, c = np.unique(arr, return_counts=True)\n",
    "\n",
    "dup = u[c > 1]\n",
    "print(f'There following are duplicated values; {list(dup)}')"
   ]
  },
  {
   "cell_type": "markdown",
   "metadata": {},
   "source": [
    "#### 24. Find all pairs in an array of integers whose sum is a given number"
   ]
  },
  {
   "cell_type": "code",
   "execution_count": 71,
   "metadata": {},
   "outputs": [
    {
     "name": "stdout",
     "output_type": "stream",
     "text": [
      "[7 5 6 6 1 5 2 3 0 5]\n",
      "Pair 7, 1\n"
     ]
    },
    {
     "data": {
      "text/plain": [
       "True"
      ]
     },
     "execution_count": 71,
     "metadata": {},
     "output_type": "execute_result"
    }
   ],
   "source": [
    "n= 8\n",
    "\n",
    "arr = np.array(np.random.randint(10, size=(10), ))\n",
    "def sol(A, n):\n",
    "    for i in range(0, len(A)-1):\n",
    "        for j in range(i+1, len(A)):\n",
    "            if (A[i] + A[j]) == n:\n",
    "                print(f\"Pair {A[i]}, {A[j]}\")\n",
    "                return True\n",
    "        return False\n",
    "print(arr)        \n",
    "sol(arr, n)"
   ]
  },
  {
   "cell_type": "markdown",
   "metadata": {},
   "source": [
    "#### 25 Compare two arrays equal in size"
   ]
  },
  {
   "cell_type": "code",
   "execution_count": 86,
   "metadata": {},
   "outputs": [
    {
     "data": {
      "text/plain": [
       "False"
      ]
     },
     "execution_count": 86,
     "metadata": {},
     "output_type": "execute_result"
    }
   ],
   "source": [
    "a1 = np.array(list(range(10))).reshape(2,5)\n",
    "a2 = np.array(list(range(10))).reshape(5,2)\n",
    "a1.shape == a2.shape"
   ]
  },
  {
   "cell_type": "markdown",
   "metadata": {},
   "source": [
    "#### 26. Create a Vehicle class without any variables and methods"
   ]
  },
  {
   "cell_type": "code",
   "execution_count": 3,
   "metadata": {},
   "outputs": [],
   "source": [
    "class Vehicle():\n",
    "    pass"
   ]
  },
  {
   "cell_type": "markdown",
   "metadata": {},
   "source": [
    "#### 27. Create a Class with instance attributes"
   ]
  },
  {
   "cell_type": "code",
   "execution_count": 8,
   "metadata": {},
   "outputs": [
    {
     "name": "stdout",
     "output_type": "stream",
     "text": [
      " ModelX has 12335 mileage\n"
     ]
    }
   ],
   "source": [
    "#Write a Python program to create a Vehicle class with max_speed \n",
    "# and mileage instance attributes.\n",
    "class Vehicle():\n",
    "    def __init__(self, name, max_speed, mileage):\n",
    "        self.name = name\n",
    "        self.max_speed = max_speed\n",
    "        self.mileage = mileage\n",
    "        \n",
    "modelX = Vehicle('sedan', 241, 12335)\n",
    "print(f' ModelX has {modelX.mileage} mileage')\n"
   ]
  },
  {
   "cell_type": "markdown",
   "metadata": {},
   "source": [
    "#### 28. Inheritance"
   ]
  },
  {
   "cell_type": "code",
   "execution_count": 14,
   "metadata": {},
   "outputs": [
    {
     "name": "stdout",
     "output_type": "stream",
     "text": [
      "The seating capacity of a FH is 50 passengers\n"
     ]
    }
   ],
   "source": [
    "#Create a child class Bus that will inherit all of the variables and methods\n",
    "# of the Vehicle class\n",
    "\n",
    "class Bus(Vehicle):\n",
    "    \n",
    "    def seating_capacity(self, capacity):\n",
    "        return f\"The seating capacity of a {self.name} is {capacity} passengers\"\n",
    "\n",
    "school_bus = Bus('FH', 56, 236541)\n",
    "print(school_bus.seating_capacity(50))"
   ]
  },
  {
   "cell_type": "code",
   "execution_count": 17,
   "metadata": {},
   "outputs": [
    {
     "name": "stdout",
     "output_type": "stream",
     "text": [
      "Total Bus fare is: 5000\n"
     ]
    }
   ],
   "source": [
    "class Vehicle:\n",
    "    def __init__(self, name, mileage, capacity):\n",
    "        self.name = name\n",
    "        self.mileage = mileage\n",
    "        self.capacity = capacity\n",
    "\n",
    "    def fare(self):\n",
    "        return self.capacity * 100\n",
    "\n",
    "class Bus(Vehicle):\n",
    "    pass\n",
    "\n",
    "School_bus = Bus(\"School Volvo\", 12, 50)\n",
    "print(\"Total Bus fare is:\", School_bus.fare())"
   ]
  },
  {
   "cell_type": "markdown",
   "metadata": {},
   "source": [
    "#### 29. Class Variables"
   ]
  },
  {
   "cell_type": "code",
   "execution_count": 16,
   "metadata": {},
   "outputs": [
    {
     "name": "stdout",
     "output_type": "stream",
     "text": [
      "Volvo is white\n"
     ]
    }
   ],
   "source": [
    "class Vehicle():\n",
    "    #class attribute\n",
    "    color = 'white'\n",
    "    def __init__(self, name, max_speed, mileage):\n",
    "        self.name = name\n",
    "        self.max_speed = max_speed\n",
    "        self.mileage = mileage\n",
    "        \n",
    "class Bus(Vehicle):\n",
    "    pass\n",
    "\n",
    "class car(Vehicle):\n",
    "    pass\n",
    "\n",
    "v1 = Bus('Volvo', 20, 0)\n",
    "print(f'{v1.name} is {v1.color}')"
   ]
  },
  {
   "cell_type": "code",
   "execution_count": 9,
   "metadata": {},
   "outputs": [
    {
     "name": "stdout",
     "output_type": "stream",
     "text": [
      "#\n",
      "##\n",
      "###\n",
      "####\n",
      "#####\n"
     ]
    }
   ],
   "source": [
    "def print_pattern(n):\n",
    "    for i, j in enumerate(range(n)):\n",
    "        print('#'*(j+1), )\n",
    "        \n",
    "print_pattern(5)"
   ]
  },
  {
   "cell_type": "code",
   "execution_count": null,
   "metadata": {},
   "outputs": [],
   "source": [
    "def pattern_2(n):\n",
    "    for i in range(n+1):\n",
    "        for j in range(i+1):\n",
    "            print(j, end=\" \")\n",
    "        print('\\n')\n",
    "        \n",
    "pattern_2(5)        "
   ]
  },
  {
   "cell_type": "code",
   "execution_count": 26,
   "metadata": {},
   "outputs": [
    {
     "name": "stdout",
     "output_type": "stream",
     "text": [
      "A \n",
      "B C \n",
      "D E F \n",
      "G H I J \n",
      "K L M N O \n",
      "P Q R S T U \n",
      "V W X Y Z [ \\ \n"
     ]
    }
   ],
   "source": [
    "def ascii_pattern():\n",
    "    num = 65\n",
    "    row = 0\n",
    "    letter =1\n",
    "    while letter <= 26:\n",
    "        for row in range(row+1):\n",
    "            print(chr(num), end=\" \")\n",
    "            num += 1\n",
    "            letter += 1\n",
    "            row+= 1\n",
    "        print('\\r')\n",
    "ascii_pattern()\n",
    "        "
   ]
  },
  {
   "cell_type": "code",
   "execution_count": 27,
   "metadata": {},
   "outputs": [
    {
     "data": {
      "text/plain": [
       "{'k1': 20, 'k2': 30}"
      ]
     },
     "execution_count": 27,
     "metadata": {},
     "output_type": "execute_result"
    }
   ],
   "source": [
    "d = {'k1':10, 'k2':20}\n",
    "d2 ={i:j+10 for i, j in d.items()}\n",
    "d2"
   ]
  },
  {
   "cell_type": "code",
   "execution_count": 37,
   "metadata": {},
   "outputs": [
    {
     "data": {
      "text/plain": [
       "[]"
      ]
     },
     "execution_count": 37,
     "metadata": {},
     "output_type": "execute_result"
    }
   ],
   "source": [
    "g =[1,3,2,5,9]\n",
    "g[-1:-4]"
   ]
  },
  {
   "cell_type": "code",
   "execution_count": null,
   "metadata": {},
   "outputs": [],
   "source": [
    "t = int(input())\n",
    "\n",
    "n = 1\n",
    "while n <= t:\n",
    "    arr = map(int, input().split())\n",
    "    "
   ]
  }
 ],
 "metadata": {
  "interpreter": {
   "hash": "482d3cca6a079f04d1053b1594e933c48c12aeb567716e8f07273460d776cf42"
  },
  "kernelspec": {
   "display_name": "Python 3.9.5 ('basic_ds')",
   "language": "python",
   "name": "python3"
  },
  "language_info": {
   "codemirror_mode": {
    "name": "ipython",
    "version": 3
   },
   "file_extension": ".py",
   "mimetype": "text/x-python",
   "name": "python",
   "nbconvert_exporter": "python",
   "pygments_lexer": "ipython3",
   "version": "3.9.5"
  },
  "orig_nbformat": 4
 },
 "nbformat": 4,
 "nbformat_minor": 2
}
